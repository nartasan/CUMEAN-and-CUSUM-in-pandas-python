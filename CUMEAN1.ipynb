{
 "cells": [
  {
   "cell_type": "code",
   "execution_count": null,
   "metadata": {},
   "outputs": [],
   "source": [
    "import numpy as np\n",
    "import matplotlib.pyplot as plt\n",
    "import pandas as pd\n",
    "import glob\n",
    "import os\n",
    "import csv\n",
    "from collections import OrderedDict\n",
    "import math\n",
    "import datetime \n",
    "import warnings"
   ]
  },
  {
   "cell_type": "markdown",
   "metadata": {},
   "source": [
    "dataset can be varied in any field. here, lets assume, dataset is a haemodynamid data and we have many paitients\n",
    "where their heart rate are changing over time"
   ]
  },
  {
   "cell_type": "code",
   "execution_count": null,
   "metadata": {},
   "outputs": [],
   "source": [
    "df = pd.read_csv('Time_series_dataset.csv')\n"
   ]
  },
  {
   "cell_type": "code",
   "execution_count": null,
   "metadata": {},
   "outputs": [],
   "source": [
    "# make the time and date in readable format for pandas analysis\n",
    "# sort the data based on time for further analysis\n",
    "df['t'] = pd.to_datetime(df['t'])\n",
    "df= df.sort_values(by=['ID','t'])"
   ]
  },
  {
   "cell_type": "code",
   "execution_count": null,
   "metadata": {},
   "outputs": [],
   "source": [
    "#changing the time intervals with the average (if needed)\n",
    "df= df.groupby([pd.Grouper(key='t', freq='1Min'), 'ID']).mean().reset_index()"
   ]
  },
  {
   "cell_type": "code",
   "execution_count": null,
   "metadata": {},
   "outputs": [],
   "source": [
    "# if a column needed to be floated\n",
    "df['variable'] = df['variable'].astype(float)\n"
   ]
  },
  {
   "cell_type": "code",
   "execution_count": null,
   "metadata": {},
   "outputs": [],
   "source": [
    "# for CUMEAN we need to subtract the updated mean from each target value\n",
    "df_updatedMean = df.set_index('t').groupby(['ID'])['variable'].rolling('2D').mean()\n",
    "df_updatedMean=df_updatedMean.reset_index().rename(columns={'variable':'UpdatedMean'})\n"
   ]
  },
  {
   "cell_type": "code",
   "execution_count": null,
   "metadata": {},
   "outputs": [],
   "source": [
    "#merging back the new updated mean to orginal file\n",
    "df_merged = pd.merge(df_updatedMean, df,  on=['ID','t'])"
   ]
  },
  {
   "cell_type": "code",
   "execution_count": null,
   "metadata": {},
   "outputs": [],
   "source": [
    "#subtract the updated mean from target values\n",
    "df_merged ['target_minus_updatedMean']= df_merged ['variable'] - df_merged ['UpdatedMean]\n"
   ]
  },
  {
   "cell_type": "code",
   "execution_count": null,
   "metadata": {},
   "outputs": [],
   "source": [
    "# now use cusum for updated target values\n",
    "df_merged ['CUMEAN']=df_merged.groupby('ID')['target_minus_updatedMean'].cumsum(skipna = True)\n"
   ]
  },
  {
   "cell_type": "code",
   "execution_count": null,
   "metadata": {},
   "outputs": [],
   "source": [
    "#CUMEAN and CUSUM can be more useful by using upper/lower control limit (based on 3 sigma)\n"
   ]
  },
  {
   "cell_type": "code",
   "execution_count": null,
   "metadata": {},
   "outputs": [],
   "source": [
    "# FIndind mean and STD for ucl and lcl\n",
    "mean= df.groupby('ID')['variable'].mean().reset_index().rename(columns={'variable':'mean_variable'})\n",
    "std= df.groupby('ID')['variable'].std().reset_index().rename(columns={'variable':'std_variable'})"
   ]
  },
  {
   "cell_type": "code",
   "execution_count": null,
   "metadata": {},
   "outputs": [],
   "source": [
    "#lcl ucl\n",
    "mean['ucl'] = mean['mean_variable'] + 3* std['std_variable']\n",
    "mean['lcl'] = mean['mean_variable'] - 3* std['std_variable']\n"
   ]
  },
  {
   "cell_type": "code",
   "execution_count": null,
   "metadata": {},
   "outputs": [],
   "source": [
    "#merging back the new varibles to the dataset\n",
    "df_merged = pd.merge(df_merged, mean,  on=['ID'])"
   ]
  },
  {
   "cell_type": "code",
   "execution_count": null,
   "metadata": {},
   "outputs": [],
   "source": [
    "# all ready now"
   ]
  }
 ],
 "metadata": {
  "kernelspec": {
   "display_name": "Python 3",
   "language": "python",
   "name": "python3"
  },
  "language_info": {
   "codemirror_mode": {
    "name": "ipython",
    "version": 3
   },
   "file_extension": ".py",
   "mimetype": "text/x-python",
   "name": "python",
   "nbconvert_exporter": "python",
   "pygments_lexer": "ipython3",
   "version": "3.7.3"
  }
 },
 "nbformat": 4,
 "nbformat_minor": 2
}
